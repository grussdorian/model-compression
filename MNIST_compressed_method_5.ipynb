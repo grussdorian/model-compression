{
 "cells": [
  {
   "cell_type": "code",
   "execution_count": 3,
   "metadata": {},
   "outputs": [],
   "source": [
    "import torch\n",
    "import torch.nn as nn\n",
    "import torch.optim as optim\n",
    "from torchvision import datasets, transforms\n",
    "import numpy as np\n",
    "import torch.optim as optim\n",
    "from scipy.ndimage import gaussian_filter\n",
    "import math"
   ]
  },
  {
   "cell_type": "code",
   "execution_count": 4,
   "metadata": {},
   "outputs": [],
   "source": [
    "class FactorizedLinear(nn.Module):\n",
    "    def __init__(self, in_features, out_features, k):\n",
    "        super(FactorizedLinear, self).__init__()\n",
    "        self.in_features = in_features\n",
    "        self.out_features = out_features\n",
    "        self.k = k\n",
    "\n",
    "        self.U = nn.Parameter(torch.Tensor(k, in_features))\n",
    "        self.V = nn.Parameter(torch.Tensor(out_features, k))\n",
    "\n",
    "        self.reset_parameters()\n",
    "\n",
    "    def reset_parameters(self):\n",
    "        nn.init.kaiming_uniform_(self.U, a=math.sqrt(5))\n",
    "        nn.init.kaiming_uniform_(self.V, a=math.sqrt(5))\n",
    "\n",
    "    def forward(self, input):\n",
    "        return torch.mm(self.V, torch.mm(self.U, input.t())).t()\n"
   ]
  },
  {
   "cell_type": "code",
   "execution_count": 5,
   "metadata": {},
   "outputs": [],
   "source": [
    "class Net(nn.Module):\n",
    "    def __init__(self, k):\n",
    "        super(Net, self).__init__()\n",
    "        self.fc1 = FactorizedLinear(784, 128, k)\n",
    "        self.fc2 = FactorizedLinear(128, 64, k)\n",
    "        self.fc3 = FactorizedLinear(64, 10, k)\n",
    "\n",
    "    def forward(self, x):\n",
    "        x = x.view(-1, 784)\n",
    "        x = torch.relu(self.fc1(x))\n",
    "        x = torch.relu(self.fc2(x))\n",
    "        x = self.fc3(x)\n",
    "        return x\n"
   ]
  },
  {
   "cell_type": "code",
   "execution_count": 6,
   "metadata": {},
   "outputs": [],
   "source": [
    "# Load the MNIST dataset\n",
    "transform = transforms.Compose([\n",
    "    transforms.ToTensor(),\n",
    "    transforms.Normalize((0.1307,), (0.3081,))\n",
    "])\n",
    "\n",
    "train_dataset = datasets.MNIST('data', train=True, download=True, transform=transform)\n",
    "test_dataset = datasets.MNIST('data', train=False, download=True, transform=transform)\n",
    "\n",
    "train_loader = torch.utils.data.DataLoader(train_dataset, batch_size=64, shuffle=True)\n",
    "test_loader = torch.utils.data.DataLoader(test_dataset, batch_size=64, shuffle=False)"
   ]
  },
  {
   "cell_type": "code",
   "execution_count": 7,
   "metadata": {},
   "outputs": [],
   "source": [
    "k = 10"
   ]
  },
  {
   "cell_type": "code",
   "execution_count": 8,
   "metadata": {},
   "outputs": [],
   "source": [
    "model = Net(k)\n",
    "criterion = nn.CrossEntropyLoss()\n",
    "optimizer = optim.SGD(model.parameters(), lr=0.01)"
   ]
  },
  {
   "cell_type": "code",
   "execution_count": 9,
   "metadata": {},
   "outputs": [
    {
     "name": "stdout",
     "output_type": "stream",
     "text": [
      "Training loss: 1.6190576436423034\n",
      "Training loss: 0.5691927246161615\n",
      "Training loss: 0.3703682310720369\n",
      "Training loss: 0.30736342752411927\n",
      "Training loss: 0.2717337008954874\n"
     ]
    }
   ],
   "source": [
    "# Train the model\n",
    "epochs = 5\n",
    "for e in range(epochs):\n",
    "    running_loss = 0\n",
    "    for images, labels in train_loader:\n",
    "        optimizer.zero_grad()\n",
    "        \n",
    "        output = model(images)\n",
    "        loss = criterion(output, labels)\n",
    "        loss.backward()\n",
    "        optimizer.step()\n",
    "        \n",
    "        running_loss += loss.item()\n",
    "    else:\n",
    "        print(f\"Training loss: {running_loss/len(train_loader)}\")"
   ]
  },
  {
   "cell_type": "code",
   "execution_count": 10,
   "metadata": {},
   "outputs": [
    {
     "name": "stdout",
     "output_type": "stream",
     "text": [
      "Number Of Images Tested = 10000\n",
      "\n",
      "Model Accuracy = 92.29 %\n"
     ]
    }
   ],
   "source": [
    "# Test the model\n",
    "correct_count, all_count = 0, 0\n",
    "for images,labels in test_loader:\n",
    "    for i in range(len(labels)):\n",
    "        img = images[i].view(1, 784)\n",
    "        with torch.no_grad():\n",
    "            logps = model(img)\n",
    "\n",
    "        ps = torch.exp(logps)\n",
    "        probab = list(ps.numpy()[0])\n",
    "        pred_label = probab.index(max(probab))\n",
    "        true_label = labels.numpy()[i]\n",
    "        if(true_label == pred_label):\n",
    "            correct_count += 1\n",
    "        all_count += 1\n",
    "\n",
    "print(\"Number Of Images Tested =\", all_count)\n",
    "print(\"\\nModel Accuracy =\", 100*(correct_count/all_count), \"%\")"
   ]
  },
  {
   "cell_type": "markdown",
   "metadata": {},
   "source": [
    "## Results\n",
    "\n",
    "For the standard model, the number of parameters are as follows\n",
    "\n",
    "| Input | FC1 | FC2 |\n",
    "|-------|-----|-----|\n",
    "| 784   | 128 | 128 |\n",
    "\n",
    "So the number of parameters will be $784\\times128+128=100,480$ for the first layer, and $128\\times64+64=8,256$ for the second layer. Total number of parameters = $108,736$\n",
    "\n",
    "For the factorized mode, with $k=10$ we have the following:\n",
    "$784\\times10+10\\times128+128 = 9,248$. Similarly for the second layer, it would be $128\\times10+10\\times64+64=1,856$. Total parameters = $11,104$\n",
    "\n",
    "Parameter difference = $(108736 - 11,104) = 97632$\n",
    "Reduction in computation = $(\\frac{97632}{108736})\\times100 \\approx 90\\%$ reduction\n"
   ]
  },
  {
   "cell_type": "markdown",
   "metadata": {},
   "source": [
    "## Question is, For a similar model of hidden layer size 15 and 14 respectively, what is the number of parameters and corresponding accuracy?"
   ]
  },
  {
   "cell_type": "code",
   "execution_count": 23,
   "metadata": {},
   "outputs": [
    {
     "name": "stdout",
     "output_type": "stream",
     "text": [
      "Training loss: 0.9994386468551306\n",
      "Training loss: 0.3992272469757208\n",
      "Training loss: 0.3295346940917247\n",
      "Training loss: 0.29452726823974773\n",
      "Training loss: 0.26954435935216164\n",
      "Number Of Images Tested = 10000\n",
      "\n",
      "Model Accuracy = 92.29 %\n"
     ]
    }
   ],
   "source": [
    "class Net_new(nn.Module):\n",
    "    def __init__(self):\n",
    "        super(Net_new, self).__init__()\n",
    "        self.fc1 = nn.Linear(784, 15) # Hidden layer size 15 and 14 is approximately same \n",
    "        self.fc2 = nn.Linear(15, 14)  # no of parameters as the factorized layers i.e about 12k\n",
    "        self.fc3 = nn.Linear(14, 10)\n",
    "\n",
    "    def forward(self, x):\n",
    "        x = x.view(-1, 784)\n",
    "        x = torch.relu(self.fc1(x))\n",
    "        x = torch.relu(self.fc2(x))\n",
    "        x = self.fc3(x)\n",
    "        return x\n",
    "\n",
    "new_model = Net_new()\n",
    "new_criterion = nn.CrossEntropyLoss()\n",
    "new_optimizer = optim.SGD(new_model.parameters(), lr=0.01)\n",
    "\n",
    "# Train the new model\n",
    "epochs = 5\n",
    "for e in range(epochs):\n",
    "    running_loss = 0\n",
    "    for images, labels in train_loader:\n",
    "        new_optimizer.zero_grad()\n",
    "        \n",
    "        output = new_model(images)\n",
    "        loss = new_criterion(output, labels)\n",
    "        loss.backward()\n",
    "        new_optimizer.step()\n",
    "        \n",
    "        running_loss += loss.item()\n",
    "    else:\n",
    "        print(f\"Training loss: {running_loss/len(train_loader)}\")\n",
    "\n",
    "# Test the new model\n",
    "correct_count, all_count = 0, 0\n",
    "for images,labels in test_loader:\n",
    "    for i in range(len(labels)):\n",
    "        img = images[i].view(1, 784)\n",
    "        with torch.no_grad():\n",
    "            logps = new_model(img)\n",
    "\n",
    "        ps = torch.exp(logps)\n",
    "        probab = list(ps.numpy()[0])\n",
    "        pred_label = probab.index(max(probab))\n",
    "        true_label = labels.numpy()[i]\n",
    "        if(true_label == pred_label):\n",
    "            correct_count += 1\n",
    "        all_count += 1\n",
    "\n",
    "print(\"Number Of Images Tested =\", all_count)\n",
    "print(\"\\nModel Accuracy =\", 100*(correct_count/all_count), \"%\")"
   ]
  },
  {
   "cell_type": "code",
   "execution_count": 26,
   "metadata": {},
   "outputs": [],
   "source": [
    "# For M\n",
    "class Net_original(nn.Module):\n",
    "    def __init__(self):\n",
    "        super(Net_original, self).__init__()\n",
    "        self.fc1 = nn.Linear(784, 128)\n",
    "        self.fc2 = nn.Linear(128, 64)\n",
    "        self.fc3 = nn.Linear(64, 10)\n",
    "\n",
    "    def forward(self, x):\n",
    "        x = x.view(-1, 784)\n",
    "        x = torch.relu(self.fc1(x))\n",
    "        x = torch.relu(self.fc2(x))\n",
    "        x = self.f\n",
    "\n",
    "original_model = Net_original()"
   ]
  },
  {
   "cell_type": "code",
   "execution_count": 27,
   "metadata": {},
   "outputs": [
    {
     "name": "stdout",
     "output_type": "stream",
     "text": [
      "The factorized model has 11,780 parameters\n",
      "The new model has 12,149 parameters\n",
      "The original model has 109,386 parameters\n"
     ]
    }
   ],
   "source": [
    "def count_parameters(model):\n",
    "    return sum(p.numel() for p in model.parameters() if p.requires_grad)\n",
    "\n",
    "print(f'The factorized model has {count_parameters(model):,} parameters')\n",
    "print(f'The new model has {count_parameters(new_model):,} parameters')\n",
    "print(f\"The original model has {count_parameters(original_model):,} parameters\")"
   ]
  },
  {
   "cell_type": "markdown",
   "metadata": {},
   "source": [
    "#### $\\frac{Accuracy}{Number of parameters}$"
   ]
  },
  {
   "cell_type": "code",
   "execution_count": 36,
   "metadata": {},
   "outputs": [],
   "source": [
    "x1 = 92.29/count_parameters(model) *10e4"
   ]
  },
  {
   "cell_type": "code",
   "execution_count": 37,
   "metadata": {},
   "outputs": [],
   "source": [
    "x2 = 92.29/count_parameters(new_model) *10e4"
   ]
  },
  {
   "cell_type": "code",
   "execution_count": 39,
   "metadata": {},
   "outputs": [
    {
     "data": {
      "text/plain": [
       "783.4465195246181"
      ]
     },
     "execution_count": 39,
     "metadata": {},
     "output_type": "execute_result"
    }
   ],
   "source": [
    "x1"
   ]
  },
  {
   "cell_type": "code",
   "execution_count": 45,
   "metadata": {},
   "outputs": [
    {
     "data": {
      "image/png": "[encoded data removed]",
      "text/plain": [
       "<Figure size 640x480 with 1 Axes>"
      ]
     },
     "metadata": {},
     "output_type": "display_data"
    }
   ],
   "source": [
    "import matplotlib.pyplot as plt\n",
    "\n",
    "x_values = ['Factorized model', 'Vanilla Model']\n",
    "y_values = [x1, x2]\n",
    "\n",
    "plt.bar(x_values, y_values)\n",
    "plt.xlabel('Different Models')\n",
    "plt.ylabel('Accruacy per parameter')\n",
    "plt.title('Comparison of Factorized and Vanilla Model')\n",
    "plt.show()"
   ]
  },
  {
   "cell_type": "code",
   "execution_count": null,
   "metadata": {},
   "outputs": [],
   "source": []
  }
 ],
 "metadata": {
  "kernelspec": {
   "display_name": "Python 3",
   "language": "python",
   "name": "python3"
  },
  "language_info": {
   "codemirror_mode": {
    "name": "ipython",
    "version": 3
   },
   "file_extension": ".py",
   "mimetype": "text/x-python",
   "name": "python",
   "nbconvert_exporter": "python",
   "pygments_lexer": "ipython3",
   "version": "3.9.6"
  }
 },
 "nbformat": 4,
 "nbformat_minor": 2
}
