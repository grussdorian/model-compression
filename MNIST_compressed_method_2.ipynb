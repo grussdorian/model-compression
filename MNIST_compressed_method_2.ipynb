{
 "cells": [
  {
   "cell_type": "code",
   "execution_count": 1,
   "metadata": {},
   "outputs": [],
   "source": [
    "import torch\n",
    "import torch.nn as nn\n",
    "import torch.optim as optim\n",
    "from torchvision import datasets, transforms\n",
    "import numpy as np\n",
    "import torch.optim as optim\n",
    "from scipy.ndimage import gaussian_filter"
   ]
  },
  {
   "cell_type": "code",
   "execution_count": 2,
   "metadata": {},
   "outputs": [],
   "source": [
    "# For M\n",
    "class Net(nn.Module):\n",
    "    def __init__(self):\n",
    "        super(Net, self).__init__()\n",
    "        self.fc1 = nn.Linear(784, 128)\n",
    "        self.fc2 = nn.Linear(128, 64)\n",
    "        self.fc3 = nn.Linear(64, 10)\n",
    "\n",
    "    def forward(self, x):\n",
    "        x = x.view(-1, 784)\n",
    "        x = torch.relu(self.fc1(x))\n",
    "        x = torch.relu(self.fc2(x))\n",
    "        x = self.fc3(x)\n",
    "        return x\n",
    "\n",
    "# For M' and M'' and M*\n",
    "class Net_sub(nn.Module):\n",
    "    def __init__(self):\n",
    "        super(Net_sub, self).__init__()\n",
    "        self.fc1 = nn.Linear(784, 64) # subbed from gaussian\n",
    "        self.fc2 = nn.Linear(64, 64)  # changed to match dimension\n",
    "        self.fc3 = nn.Linear(64, 10)\n",
    "\n",
    "    def forward(self, x):\n",
    "        x = x.view(-1, 784)\n",
    "        x = torch.relu(self.fc1(x))\n",
    "        x = torch.relu(self.fc2(x))\n",
    "        x = self.fc3(x)\n",
    "        return x\n",
    "  "
   ]
  },
  {
   "cell_type": "code",
   "execution_count": 3,
   "metadata": {},
   "outputs": [
    {
     "data": {
      "text/plain": [
       "Net(\n",
       "  (fc1): Linear(in_features=784, out_features=128, bias=True)\n",
       "  (fc2): Linear(in_features=128, out_features=64, bias=True)\n",
       "  (fc3): Linear(in_features=64, out_features=10, bias=True)\n",
       ")"
      ]
     },
     "execution_count": 3,
     "metadata": {},
     "output_type": "execute_result"
    }
   ],
   "source": [
    "M = Net()\n",
    "M.load_state_dict(torch.load('model.pth'))\n",
    "M.eval()"
   ]
  },
  {
   "cell_type": "markdown",
   "metadata": {},
   "source": [
    "### Creating $S_{64\\times128}$ Num of iterations=1 gives best result"
   ]
  },
  {
   "cell_type": "code",
   "execution_count": 5,
   "metadata": {},
   "outputs": [
    {
     "name": "stdout",
     "output_type": "stream",
     "text": [
      "torch.Size([128, 784])\n",
      "128\n",
      "[64, 784]\n",
      "torch.Size([128])\n",
      "128\n",
      "[64, 1]\n",
      "torch.Size([128, 64])\n",
      "128\n",
      "[64, 64]\n",
      "torch.Size([64, 784]) torch.Size([64]) torch.Size([64, 64])\n"
     ]
    },
    {
     "name": "stderr",
     "output_type": "stream",
     "text": [
      "/var/folders/md/3dw2nsvn0vd_fzy_p6gjshqh0000gn/T/ipykernel_68597/3477116322.py:3: UserWarning: To copy construct from a tensor, it is recommended to use sourceTensor.clone().detach() or sourceTensor.clone().detach().requires_grad_(True), rather than torch.tensor(sourceTensor).\n",
      "  S = torch.tensor(W, dtype=dtype)\n"
     ]
    }
   ],
   "source": [
    "def create_S(W, output_size, num_iterations=1, dtype=torch.float32):\n",
    "    # Convert to tensor\n",
    "    S = torch.tensor(W, dtype=dtype)\n",
    "    print(S.shape)\n",
    "    # Add dimensions to S to make it a 4D tensor if it's not already\n",
    "    while len(S.shape) < 4:\n",
    "        S = S.unsqueeze(0)\n",
    "\n",
    "    # Ensure output_size is a list so we can modify it if necessary\n",
    "    output_size = list(output_size)\n",
    "\n",
    "    # If S is a 1D tensor, adjust output_size to match\n",
    "    if len(W.shape) == 1 and len(output_size)==1:\n",
    "        output_size = [output_size[0], 1]\n",
    "    # Calculate the step size for each dimension\n",
    "    step_size = [(S.shape[i] - output_size[i]) // num_iterations for i in range(len(output_size))]\n",
    "    if len(W.shape) == 1:\n",
    "        s_shape = W.shape[0]\n",
    "    else:\n",
    "        s_shape = S.shape[-2]\n",
    "    print(s_shape)\n",
    "    for i in range(num_iterations):\n",
    "        # Apply Gaussian filter\n",
    "        sigma = 1.0*num_iterations/(i+1)\n",
    "        S_np = S.numpy()  # Convert to NumPy array\n",
    "        S_filtered = gaussian_filter(S_np, sigma=sigma)\n",
    "        S = torch.from_numpy(S_filtered)  # Convert back to tensor\n",
    "        # Calculate the target size for this iteration\n",
    "        if i < num_iterations - 1:\n",
    "            target_zero = s_shape + step_size[0]\n",
    "            target_size = [target_zero, output_size[1] ]\n",
    "            s_shape = target_zero\n",
    "        else:\n",
    "            target_size = output_size\n",
    "        print(target_size)\n",
    "        # Create adaptive max pooling layer\n",
    "        pool = nn.AdaptiveMaxPool2d(target_size)\n",
    "\n",
    "        # Apply adaptive max pooling\n",
    "        S = pool(S)\n",
    "    # Remove the added dimensions\n",
    "    S = S.squeeze()\n",
    "\n",
    "    return S\n",
    "    # sigma = 1.0\n",
    "    # S = gaussian_filter(S, sigma=sigma)\n",
    "    # S = torch.tensor(S, dtype=dtype)\n",
    "    # S = S.unsqueeze(0).unsqueeze(0)\n",
    "    # pool = nn.AdaptiveMaxPool2d(output_size)\n",
    "    # S = pool(S)\n",
    "    # S = S.squeeze()\n",
    "\n",
    "A_dash_weights_L1 = create_S(W = M.fc1.weight.data.clone().detach(), output_size= (64, 784))\n",
    "A_dash_bias_L1 = create_S(M.fc1.bias.data.clone().detach(), (64, 1))\n",
    "A_dash_weights_L2 = (create_S((M.fc2.weight.data.clone().detach()).T, (64, 64))).T\n",
    "\n",
    "print(A_dash_weights_L1.shape, A_dash_bias_L1.shape, A_dash_weights_L2.shape)"
   ]
  },
  {
   "cell_type": "code",
   "execution_count": 33,
   "metadata": {},
   "outputs": [],
   "source": [
    "# A_dash_weights_L1 = S @ M.fc1.weight.data.clone()\n",
    "# A_dash_bias_L1 = S @ M.fc1.bias.data.clone()\n",
    "\n",
    "# A_dash_weights_L2 = S @ (M.fc2.weight.data.clone()).T\n",
    "# A_dash_bias_L2 = S.T @ (M.fc2.bias.data.clone())"
   ]
  },
  {
   "cell_type": "code",
   "execution_count": 6,
   "metadata": {},
   "outputs": [],
   "source": [
    "M_dash = Net_sub()\n",
    "\n",
    "M_dash.fc1.weight.data = A_dash_weights_L1\n",
    "M_dash.fc1.bias.data = A_dash_bias_L1\n",
    "\n",
    "M_dash.fc2.weight.data = A_dash_weights_L2\n",
    "M_dash.fc2.bias.data = M.fc2.bias.data.clone()\n",
    "\n",
    "M_dash.fc3.weight.data = M.fc3.weight.data.clone()\n",
    "M_dash.fc3.bias.data = M.fc3.bias.data.clone()\n"
   ]
  },
  {
   "cell_type": "code",
   "execution_count": 7,
   "metadata": {},
   "outputs": [
    {
     "name": "stdout",
     "output_type": "stream",
     "text": [
      "torch.Size([64, 784]) torch.Size([64])\n",
      "torch.Size([64, 64])\n"
     ]
    }
   ],
   "source": [
    "print(A_dash_weights_L1.shape, A_dash_bias_L1.shape)\n",
    "print(A_dash_weights_L2.shape)"
   ]
  },
  {
   "cell_type": "code",
   "execution_count": 8,
   "metadata": {},
   "outputs": [
    {
     "name": "stdout",
     "output_type": "stream",
     "text": [
      "torch.Size([64, 784]) torch.Size([64])\n",
      "torch.Size([64, 64]) torch.Size([64])\n"
     ]
    }
   ],
   "source": [
    "print(M_dash.fc1.weight.data.shape, M_dash.fc1.bias.data.shape)\n",
    "print(M_dash.fc2.weight.data.shape, M_dash.fc2.bias.data.shape)"
   ]
  },
  {
   "cell_type": "code",
   "execution_count": 9,
   "metadata": {},
   "outputs": [
    {
     "data": {
      "text/plain": [
       "Net_sub(\n",
       "  (fc1): Linear(in_features=784, out_features=64, bias=True)\n",
       "  (fc2): Linear(in_features=64, out_features=64, bias=True)\n",
       "  (fc3): Linear(in_features=64, out_features=10, bias=True)\n",
       ")"
      ]
     },
     "execution_count": 9,
     "metadata": {},
     "output_type": "execute_result"
    }
   ],
   "source": [
    "M_dash.eval()"
   ]
  },
  {
   "cell_type": "code",
   "execution_count": 10,
   "metadata": {},
   "outputs": [],
   "source": [
    "# Load the MNIST dataset\n",
    "transform = transforms.Compose([\n",
    "    transforms.ToTensor(),\n",
    "    transforms.Normalize((0.1307,), (0.3081,))\n",
    "])\n",
    "\n",
    "train_dataset = datasets.MNIST('data', train=True, download=True, transform=transform)\n",
    "test_dataset = datasets.MNIST('data', train=False, download=True, transform=transform)\n",
    "\n",
    "train_loader = torch.utils.data.DataLoader(train_dataset, batch_size=64, shuffle=True)\n",
    "test_loader = torch.utils.data.DataLoader(test_dataset, batch_size=64, shuffle=False)"
   ]
  },
  {
   "cell_type": "code",
   "execution_count": 11,
   "metadata": {},
   "outputs": [
    {
     "name": "stdout",
     "output_type": "stream",
     "text": [
      "Test Accuracy model: 17.83%\n"
     ]
    }
   ],
   "source": [
    "M_dash.eval()\n",
    "correct = 0\n",
    "total = 0\n",
    "with torch.no_grad():\n",
    "    for data, target in test_loader:\n",
    "        output = M_dash(data)\n",
    "        _, predicted = torch.max(output.data, 1)\n",
    "        total += target.size(0)\n",
    "        correct += (predicted == target).sum().item()\n",
    "\n",
    "accuracy = 100 * correct / total\n",
    "\n",
    "print(f'Test Accuracy model: {accuracy}%')"
   ]
  },
  {
   "cell_type": "code",
   "execution_count": 21,
   "metadata": {},
   "outputs": [],
   "source": [
    "import copy\n",
    "M_double_dash = copy.deepcopy(M_dash)"
   ]
  },
  {
   "cell_type": "code",
   "execution_count": 22,
   "metadata": {},
   "outputs": [
    {
     "data": {
      "text/plain": [
       "Net_sub(\n",
       "  (fc1): Linear(in_features=784, out_features=64, bias=True)\n",
       "  (fc2): Linear(in_features=64, out_features=64, bias=True)\n",
       "  (fc3): Linear(in_features=64, out_features=10, bias=True)\n",
       ")"
      ]
     },
     "execution_count": 22,
     "metadata": {},
     "output_type": "execute_result"
    }
   ],
   "source": [
    "M_double_dash"
   ]
  },
  {
   "cell_type": "code",
   "execution_count": 23,
   "metadata": {},
   "outputs": [
    {
     "name": "stdout",
     "output_type": "stream",
     "text": [
      "Epoch 1/10, Loss: 0.22690068185329437\n",
      "Epoch 2/10, Loss: 0.655265748500824\n",
      "Epoch 3/10, Loss: 0.13585880398750305\n",
      "Epoch 4/10, Loss: 0.41211843490600586\n",
      "Epoch 5/10, Loss: 0.18461140990257263\n",
      "Epoch 6/10, Loss: 0.07055684924125671\n",
      "Epoch 7/10, Loss: 0.4024240970611572\n",
      "Epoch 8/10, Loss: 0.2851245105266571\n",
      "Epoch 9/10, Loss: 0.12699361145496368\n",
      "Epoch 10/10, Loss: 0.2197505682706833\n"
     ]
    }
   ],
   "source": [
    "# Train the model M'' on the MNIST dataset\n",
    "criterion = nn.CrossEntropyLoss()\n",
    "optimizer = optim.SGD(M_double_dash.parameters(), lr=0.01)\n",
    "num_epochs = 10\n",
    "for epoch in range(num_epochs):\n",
    "    for batch_idx, (data, target) in enumerate(train_loader):\n",
    "        optimizer.zero_grad()\n",
    "        output = M_double_dash(data)\n",
    "        loss = criterion(output, target)\n",
    "        loss.backward()\n",
    "        optimizer.step()\n",
    "\n",
    "    # Print the training loss for each epoch\n",
    "    print(f'Epoch {epoch+1}/{num_epochs}, Loss: {loss.item()}')"
   ]
  },
  {
   "cell_type": "code",
   "execution_count": 15,
   "metadata": {},
   "outputs": [
    {
     "name": "stdout",
     "output_type": "stream",
     "text": [
      "Test Accuracy model: 96.82%\n"
     ]
    }
   ],
   "source": [
    "M_double_dash.eval()\n",
    "correct = 0\n",
    "total = 0\n",
    "with torch.no_grad():\n",
    "    for data, target in test_loader:\n",
    "        output = M_double_dash(data)\n",
    "        _, predicted = torch.max(output.data, 1)\n",
    "        total += target.size(0)\n",
    "        correct += (predicted == target).sum().item()\n",
    "\n",
    "accuracy = 100 * correct / total\n",
    "\n",
    "print(f'Test Accuracy model: {accuracy}%')"
   ]
  },
  {
   "cell_type": "code",
   "execution_count": 16,
   "metadata": {},
   "outputs": [
    {
     "name": "stdout",
     "output_type": "stream",
     "text": [
      "Epoch 1/10, Loss: 0.44507694244384766\n",
      "Epoch 2/10, Loss: 0.15758569538593292\n",
      "Epoch 3/10, Loss: 0.18744738399982452\n",
      "Epoch 4/10, Loss: 0.09961222857236862\n",
      "Epoch 5/10, Loss: 0.2557902932167053\n",
      "Epoch 6/10, Loss: 0.12377199530601501\n",
      "Epoch 7/10, Loss: 0.15048006176948547\n",
      "Epoch 8/10, Loss: 0.13790775835514069\n",
      "Epoch 9/10, Loss: 0.04519626498222351\n",
      "Epoch 10/10, Loss: 0.06047726795077324\n"
     ]
    }
   ],
   "source": [
    "M_star = Net_sub()\n",
    "# Train the model M* on the MNIST dataset\n",
    "criterion = nn.CrossEntropyLoss()\n",
    "optimizer = optim.SGD(M_star.parameters(), lr=0.01)\n",
    "num_epochs = 10\n",
    "for epoch in range(num_epochs):\n",
    "    for batch_idx, (data, target) in enumerate(train_loader):\n",
    "        optimizer.zero_grad()\n",
    "        output = M_star(data)\n",
    "        loss = criterion(output, target)\n",
    "        loss.backward()\n",
    "        optimizer.step()\n",
    "\n",
    "    # Print the training loss for each epoch\n",
    "    print(f'Epoch {epoch+1}/{num_epochs}, Loss: {loss.item()}')\n"
   ]
  },
  {
   "cell_type": "code",
   "execution_count": 17,
   "metadata": {},
   "outputs": [
    {
     "name": "stdout",
     "output_type": "stream",
     "text": [
      "Test Accuracy: 95.95%\n"
     ]
    }
   ],
   "source": [
    "# Evaluate the model M* on the test set\n",
    "M_star.eval()\n",
    "correct = 0\n",
    "total = 0\n",
    "with torch.no_grad():\n",
    "    for data, target in test_loader:\n",
    "        output = M_star(data)\n",
    "        _, predicted = torch.max(output.data, 1)\n",
    "        total += target.size(0)\n",
    "        correct += (predicted == target).sum().item()\n",
    "\n",
    "accuracy = 100 * correct / total\n",
    "print(f'Test Accuracy: {accuracy}%')\n"
   ]
  },
  {
   "cell_type": "code",
   "execution_count": null,
   "metadata": {},
   "outputs": [],
   "source": []
  }
 ],
 "metadata": {
  "kernelspec": {
   "display_name": "Python 3",
   "language": "python",
   "name": "python3"
  },
  "language_info": {
   "codemirror_mode": {
    "name": "ipython",
    "version": 3
   },
   "file_extension": ".py",
   "mimetype": "text/x-python",
   "name": "python",
   "nbconvert_exporter": "python",
   "pygments_lexer": "ipython3",
   "version": "3.9.6"
  }
 },
 "nbformat": 4,
 "nbformat_minor": 2
}
