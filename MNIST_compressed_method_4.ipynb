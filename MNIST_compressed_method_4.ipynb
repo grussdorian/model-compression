{
 "cells": [
  {
   "cell_type": "code",
   "execution_count": 88,
   "metadata": {
    "metadata": {}
   },
   "outputs": [],
   "source": [
    "import torch\n",
    "import torch.nn as nn\n",
    "import torch.optim as optim\n",
    "from torchvision import datasets, transforms\n",
    "import numpy as np\n",
    "import torch.optim as optim\n",
    "from scipy.ndimage import gaussian_filter"
   ]
  },
  {
   "cell_type": "code",
   "execution_count": 89,
   "metadata": {
    "metadata": {}
   },
   "outputs": [],
   "source": [
    "# For M\n",
    "class Net(nn.Module):\n",
    "    def __init__(self):\n",
    "        super(Net, self).__init__()\n",
    "        self.fc1 = nn.Linear(784, 128)\n",
    "        self.fc2 = nn.Linear(128, 64)\n",
    "        self.fc3 = nn.Linear(64, 10)\n",
    "\n",
    "    def forward(self, x):\n",
    "        x = x.view(-1, 784)\n",
    "        x = torch.relu(self.fc1(x))\n",
    "        x = torch.relu(self.fc2(x))\n",
    "        x = self.fc3(x)\n",
    "        return x\n",
    "\n",
    "# For M' and M'' and M*\n",
    "class Net_sub(nn.Module):\n",
    "    def __init__(self):\n",
    "        super(Net_sub, self).__init__()\n",
    "        self.fc1 = nn.Linear(784, 64) # subbed from gaussian\n",
    "        self.fc2 = nn.Linear(64, 64)  # changed to match dimension\n",
    "        self.fc3 = nn.Linear(64, 10)\n",
    "\n",
    "    def forward(self, x):\n",
    "        x = x.view(-1, 784)\n",
    "        x = torch.relu(self.fc1(x))\n",
    "        x = torch.relu(self.fc2(x))\n",
    "        x = self.fc3(x)\n",
    "        return x\n",
    "  "
   ]
  },
  {
   "cell_type": "code",
   "execution_count": 90,
   "metadata": {
    "metadata": {}
   },
   "outputs": [
    {
     "data": {
      "text/plain": [
       "Net(\n",
       "  (fc1): Linear(in_features=784, out_features=128, bias=True)\n",
       "  (fc2): Linear(in_features=128, out_features=64, bias=True)\n",
       "  (fc3): Linear(in_features=64, out_features=10, bias=True)\n",
       ")"
      ]
     },
     "execution_count": 90,
     "metadata": {},
     "output_type": "execute_result"
    }
   ],
   "source": [
    "M = Net()\n",
    "M.load_state_dict(torch.load('model.pth'))\n",
    "M.eval()"
   ]
  },
  {
   "cell_type": "code",
   "execution_count": 91,
   "metadata": {},
   "outputs": [
    {
     "name": "stdout",
     "output_type": "stream",
     "text": [
      "torch.Size([785, 128])\n",
      "torch.Size([785, 64])\n",
      "A' bias L1 shape torch.Size([64])\n",
      "torch.Size([128, 64]) torch.Size([64, 64])\n",
      "Y shape: torch.Size([64, 128]) \n",
      "torch.Size([64, 64])\n"
     ]
    }
   ],
   "source": [
    "def create_S(W, b=None, output_size = (None, None), num_iterations=1, dtype=torch.float32):\n",
    "    # Convert to tensor\n",
    "    if b is not None:\n",
    "        S = torch.cat(( W.T, b.unsqueeze(0)), dim=0)\n",
    "        print(S.shape)\n",
    "\n",
    "        Omega = torch.randn(S.shape[1], output_size[0], dtype=dtype)\n",
    "        Y = S@Omega\n",
    "        Q, _ = torch.qr(Y)\n",
    "\n",
    "        print(Q.shape)\n",
    "        return Q[:-1], Q[-1]  # Return the weight matrix and bias vector separately\n",
    "    else:\n",
    "        Omega = torch.randn(W.shape[1], output_size[0], dtype=dtype)\n",
    "        print(W.shape, Omega.shape)\n",
    "        Y = Omega@W.T\n",
    "        print(f\"Y shape: {Y.shape} \")\n",
    "        Q, _ = torch.qr(Y)\n",
    "\n",
    "        print(Q.shape)\n",
    "        return Q\n",
    "\n",
    "W = M.fc1.weight.data.clone().detach()\n",
    "b = M.fc1.bias.data.clone().detach()\n",
    "# print(W.shape, b.shape)\n",
    "A_dash_weights_L1, A_dash_bias_L1 = create_S(W, b, (64, 784))\n",
    "print(\"A' bias L1 shape\",A_dash_bias_L1.shape)\n",
    "# print(A_dash_weights_L1.shape, A_dash_bias_L1.shape)\n",
    "\n",
    "# concatenated = torch.cat((W, b.view(1, -1)), dim=0)\n",
    "\n",
    "# A_dash_weights_L1 = create_S(W = concatenated, output_size= (64, 784))\n",
    "# A_dash_bias_L1 = A_dash_weights_L1[-1]\n",
    "# # A_dash_bias_L1 = create_S(M.fc1.bias.data.clone().detach(), (64, 1))\n",
    "A_dash_weights_L2 = (create_S((M.fc2.weight.data.clone().detach()).T, b = None, output_size= (64, 64))).T\n",
    "\n",
    "# print(A_dash_weights_L1.shape, A_dash_bias_L1.shape, A_dash_weights_L2.shape)"
   ]
  },
  {
   "cell_type": "code",
   "execution_count": 92,
   "metadata": {},
   "outputs": [],
   "source": [
    "M_dash = Net_sub()"
   ]
  },
  {
   "cell_type": "code",
   "execution_count": 95,
   "metadata": {},
   "outputs": [
    {
     "name": "stdout",
     "output_type": "stream",
     "text": [
      "torch.Size([64, 784])\n",
      "torch.Size([784, 64])\n"
     ]
    }
   ],
   "source": [
    "print(M_dash.fc1.weight.data.shape)\n",
    "print(A_dash_weights_L1.shape)"
   ]
  },
  {
   "cell_type": "code",
   "execution_count": 85,
   "metadata": {},
   "outputs": [
    {
     "name": "stdout",
     "output_type": "stream",
     "text": [
      "torch.Size([64, 64])\n",
      "torch.Size([64, 64])\n"
     ]
    }
   ],
   "source": [
    "print((A_dash_weights_L2).T.shape)\n",
    "print(M_dash.fc2.weight.data.shape)"
   ]
  },
  {
   "cell_type": "code",
   "execution_count": 96,
   "metadata": {},
   "outputs": [],
   "source": [
    "\n",
    "\n",
    "M_dash.fc1.weight.data = (A_dash_weights_L1).T\n",
    "M_dash.fc1.bias.data = A_dash_bias_L1\n",
    "\n",
    "M_dash.fc2.weight.data = A_dash_weights_L2\n",
    "M_dash.fc2.bias.data = M.fc2.bias.data.clone()\n",
    "\n",
    "M_dash.fc3.weight.data = M.fc3.weight.data.clone()\n",
    "M_dash.fc3.bias.data = M.fc3.bias.data.clone()"
   ]
  },
  {
   "cell_type": "code",
   "execution_count": 98,
   "metadata": {},
   "outputs": [
    {
     "name": "stdout",
     "output_type": "stream",
     "text": [
      "torch.Size([784, 64]) torch.Size([64])\n",
      "torch.Size([64, 64])\n",
      "torch.Size([64, 784]) torch.Size([64])\n",
      "torch.Size([64, 64]) torch.Size([64])\n"
     ]
    }
   ],
   "source": [
    "print(A_dash_weights_L1.shape, A_dash_bias_L1.shape)\n",
    "print(A_dash_weights_L2.shape)\n",
    "print(M_dash.fc1.weight.data.shape, M_dash.fc1.bias.data.shape)\n",
    "print(M_dash.fc2.weight.data.shape, M_dash.fc2.bias.data.shape)\n",
    "\n",
    "assert A_dash_bias_L1.shape == M_dash.fc1.bias.data.shape\n",
    "assert (A_dash_weights_L1).T.shape == M_dash.fc1.weight.data.shape\n",
    "assert A_dash_weights_L2.shape == M_dash.fc2.weight.data.shape"
   ]
  },
  {
   "cell_type": "code",
   "execution_count": 99,
   "metadata": {},
   "outputs": [],
   "source": [
    "# Load the MNIST dataset\n",
    "transform = transforms.Compose([\n",
    "    transforms.ToTensor(),\n",
    "    transforms.Normalize((0.1307,), (0.3081,))\n",
    "])\n",
    "\n",
    "train_dataset = datasets.MNIST('data', train=True, download=True, transform=transform)\n",
    "test_dataset = datasets.MNIST('data', train=False, download=True, transform=transform)\n",
    "\n",
    "train_loader = torch.utils.data.DataLoader(train_dataset, batch_size=64, shuffle=True)\n",
    "test_loader = torch.utils.data.DataLoader(test_dataset, batch_size=64, shuffle=False)"
   ]
  },
  {
   "cell_type": "code",
   "execution_count": 101,
   "metadata": {
    "metadata": {}
   },
   "outputs": [
    {
     "name": "stdout",
     "output_type": "stream",
     "text": [
      "Test Accuracy model: 5.86%\n"
     ]
    }
   ],
   "source": [
    "M_dash.eval()\n",
    "correct = 0\n",
    "total = 0\n",
    "with torch.no_grad():\n",
    "    for data, target in test_loader:\n",
    "        output = M_dash(data)\n",
    "        _, predicted = torch.max(output.data, 1)\n",
    "        total += target.size(0)\n",
    "        correct += (predicted == target).sum().item()\n",
    "\n",
    "accuracy = 100 * correct / total\n",
    "\n",
    "print(f'Test Accuracy model: {accuracy}%')"
   ]
  },
  {
   "cell_type": "code",
   "execution_count": null,
   "metadata": {},
   "outputs": [],
   "source": []
  }
 ],
 "metadata": {
  "kernelspec": {
   "display_name": "Python 3",
   "language": "python",
   "name": "python3"
  },
  "language_info": {
   "codemirror_mode": {
    "name": "ipython",
    "version": 3
   },
   "file_extension": ".py",
   "mimetype": "text/x-python",
   "name": "python",
   "nbconvert_exporter": "python",
   "pygments_lexer": "ipython3",
   "version": "3.9.6"
  }
 },
 "nbformat": 4,
 "nbformat_minor": 2
}
