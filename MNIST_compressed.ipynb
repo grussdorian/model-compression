{
 "cells": [
  {
   "cell_type": "code",
   "execution_count": 1,
   "metadata": {},
   "outputs": [],
   "source": [
    "import torch\n",
    "import torch.nn as nn\n",
    "import torch.optim as optim\n",
    "from torchvision import datasets, transforms\n",
    "import numpy as np\n",
    "import torch.optim as optim"
   ]
  },
  {
   "cell_type": "code",
   "execution_count": 2,
   "metadata": {},
   "outputs": [],
   "source": [
    "# For M\n",
    "class Net(nn.Module):\n",
    "    def __init__(self):\n",
    "        super(Net, self).__init__()\n",
    "        self.fc1 = nn.Linear(784, 128)\n",
    "        self.fc2 = nn.Linear(128, 64)\n",
    "        self.fc3 = nn.Linear(64, 10)\n",
    "\n",
    "    def forward(self, x):\n",
    "        x = x.view(-1, 784)\n",
    "        x = torch.relu(self.fc1(x))\n",
    "        x = torch.relu(self.fc2(x))\n",
    "        x = self.fc3(x)\n",
    "        return x\n",
    "\n",
    "# For M' and M'' and M*\n",
    "class Net_sub(nn.Module):\n",
    "    def __init__(self):\n",
    "        super(Net_sub, self).__init__()\n",
    "        self.fc1 = nn.Linear(784, 64) # subbed from gaussian\n",
    "        self.fc2 = nn.Linear(64, 64)  # changed to match dimension\n",
    "        self.fc3 = nn.Linear(64, 10)\n",
    "\n",
    "    def forward(self, x):\n",
    "        x = x.view(-1, 784)\n",
    "        x = torch.relu(self.fc1(x))\n",
    "        x = torch.relu(self.fc2(x))\n",
    "        x = self.fc3(x)\n",
    "        return x\n",
    "  "
   ]
  },
  {
   "cell_type": "code",
   "execution_count": 3,
   "metadata": {},
   "outputs": [
    {
     "data": {
      "text/plain": [
       "Net(\n",
       "  (fc1): Linear(in_features=784, out_features=128, bias=True)\n",
       "  (fc2): Linear(in_features=128, out_features=64, bias=True)\n",
       "  (fc3): Linear(in_features=64, out_features=10, bias=True)\n",
       ")"
      ]
     },
     "execution_count": 3,
     "metadata": {},
     "output_type": "execute_result"
    }
   ],
   "source": [
    "M = Net()\n",
    "M.load_state_dict(torch.load('model.pth'))\n",
    "M.eval()"
   ]
  },
  {
   "cell_type": "markdown",
   "metadata": {},
   "source": [
    "### Creating $S_{64\\times128}$"
   ]
  },
  {
   "cell_type": "code",
   "execution_count": 4,
   "metadata": {},
   "outputs": [],
   "source": [
    "shape = (64,128)\n",
    "S = np.random.normal(0, 1, shape)\n",
    "S = torch.tensor(S, dtype=torch.float32)\n",
    "\n",
    "shape2 = (64,128) # or S2 = S\n",
    "S2 = np.random.normal(0, 1, shape2)\n",
    "S2 = torch.tensor(S2, dtype=torch.float32)"
   ]
  },
  {
   "cell_type": "code",
   "execution_count": 5,
   "metadata": {},
   "outputs": [
    {
     "data": {
      "text/plain": [
       "torch.Size([64, 128])"
      ]
     },
     "execution_count": 5,
     "metadata": {},
     "output_type": "execute_result"
    }
   ],
   "source": [
    "M.fc2.weight.data.shape"
   ]
  },
  {
   "cell_type": "code",
   "execution_count": 6,
   "metadata": {},
   "outputs": [
    {
     "name": "stdout",
     "output_type": "stream",
     "text": [
      "torch.Size([64, 128]) torch.Size([64])\n"
     ]
    }
   ],
   "source": [
    "print(S2.shape, M.fc2.bias.data.shape)"
   ]
  },
  {
   "cell_type": "code",
   "execution_count": 7,
   "metadata": {},
   "outputs": [],
   "source": [
    "A_dash_weights_L1 = S @ M.fc1.weight.data.clone()\n",
    "A_dash_bias_L1 = S @ M.fc1.bias.data.clone()\n",
    "\n",
    "A_dash_weights_L2 = S2 @ (M.fc2.weight.data.clone()).T\n",
    "A_dash_bias_L2 = S2.T @ (M.fc2.bias.data.clone())"
   ]
  },
  {
   "cell_type": "code",
   "execution_count": 8,
   "metadata": {},
   "outputs": [
    {
     "name": "stdout",
     "output_type": "stream",
     "text": [
      "torch.Size([64, 128])\n"
     ]
    }
   ],
   "source": [
    "print(M.fc2.weight.data.shape)"
   ]
  },
  {
   "cell_type": "code",
   "execution_count": 9,
   "metadata": {},
   "outputs": [
    {
     "name": "stdout",
     "output_type": "stream",
     "text": [
      "torch.Size([64, 784]) torch.Size([64])\n",
      "torch.Size([64, 64]) torch.Size([128])\n"
     ]
    }
   ],
   "source": [
    "print(A_dash_weights_L1.shape, A_dash_bias_L1.shape)\n",
    "print(A_dash_weights_L2.shape, A_dash_bias_L2.shape)"
   ]
  },
  {
   "cell_type": "code",
   "execution_count": 10,
   "metadata": {},
   "outputs": [
    {
     "name": "stdout",
     "output_type": "stream",
     "text": [
      "torch.Size([64])\n"
     ]
    }
   ],
   "source": [
    "print(M.fc2.bias.data.shape)"
   ]
  },
  {
   "cell_type": "code",
   "execution_count": 11,
   "metadata": {},
   "outputs": [],
   "source": [
    "M_dash = Net_sub()\n",
    "\n",
    "M_dash.fc1.weight.data = A_dash_weights_L1\n",
    "M_dash.fc1.bias.data = A_dash_bias_L1\n",
    "\n",
    "M_dash.fc2.weight.data = A_dash_weights_L2\n",
    "M_dash.fc2.bias.data = M.fc2.bias.data.clone()\n",
    "\n",
    "M_dash.fc3.weight.data = M.fc3.weight.data.clone()\n",
    "M_dash.fc3.bias.data = M.fc3.bias.data.clone()\n"
   ]
  },
  {
   "cell_type": "code",
   "execution_count": 12,
   "metadata": {},
   "outputs": [
    {
     "name": "stdout",
     "output_type": "stream",
     "text": [
      "torch.Size([64, 784]) torch.Size([64])\n",
      "torch.Size([64, 64]) torch.Size([64])\n"
     ]
    }
   ],
   "source": [
    "print(M_dash.fc1.weight.data.shape, M_dash.fc1.bias.data.shape)\n",
    "print(M_dash.fc2.weight.data.shape, M_dash.fc2.bias.data.shape)"
   ]
  },
  {
   "cell_type": "code",
   "execution_count": 13,
   "metadata": {},
   "outputs": [
    {
     "data": {
      "text/plain": [
       "Net_sub(\n",
       "  (fc1): Linear(in_features=784, out_features=64, bias=True)\n",
       "  (fc2): Linear(in_features=64, out_features=64, bias=True)\n",
       "  (fc3): Linear(in_features=64, out_features=10, bias=True)\n",
       ")"
      ]
     },
     "execution_count": 13,
     "metadata": {},
     "output_type": "execute_result"
    }
   ],
   "source": [
    "M_dash.eval()"
   ]
  },
  {
   "cell_type": "code",
   "execution_count": 14,
   "metadata": {},
   "outputs": [],
   "source": [
    "# Load the MNIST dataset\n",
    "transform = transforms.Compose([\n",
    "    transforms.ToTensor(),\n",
    "    transforms.Normalize((0.1307,), (0.3081,))\n",
    "])\n",
    "\n",
    "train_dataset = datasets.MNIST('data', train=True, download=True, transform=transform)\n",
    "test_dataset = datasets.MNIST('data', train=False, download=True, transform=transform)\n",
    "\n",
    "train_loader = torch.utils.data.DataLoader(train_dataset, batch_size=64, shuffle=True)\n",
    "test_loader = torch.utils.data.DataLoader(test_dataset, batch_size=64, shuffle=False)"
   ]
  },
  {
   "cell_type": "code",
   "execution_count": 15,
   "metadata": {},
   "outputs": [
    {
     "name": "stdout",
     "output_type": "stream",
     "text": [
      "Test Accuracy model: 7.76%\n"
     ]
    }
   ],
   "source": [
    "M_dash.eval()\n",
    "correct = 0\n",
    "total = 0\n",
    "with torch.no_grad():\n",
    "    for data, target in test_loader:\n",
    "        output = M_dash(data)\n",
    "        _, predicted = torch.max(output.data, 1)\n",
    "        total += target.size(0)\n",
    "        correct += (predicted == target).sum().item()\n",
    "\n",
    "accuracy = 100 * correct / total\n",
    "\n",
    "print(f'Test Accuracy model: {accuracy}%')"
   ]
  },
  {
   "cell_type": "code",
   "execution_count": 16,
   "metadata": {},
   "outputs": [],
   "source": [
    "import copy\n",
    "M_double_dash = copy.deepcopy(M_dash)"
   ]
  },
  {
   "cell_type": "code",
   "execution_count": 17,
   "metadata": {},
   "outputs": [
    {
     "data": {
      "text/plain": [
       "Net_sub(\n",
       "  (fc1): Linear(in_features=784, out_features=64, bias=True)\n",
       "  (fc2): Linear(in_features=64, out_features=64, bias=True)\n",
       "  (fc3): Linear(in_features=64, out_features=10, bias=True)\n",
       ")"
      ]
     },
     "execution_count": 17,
     "metadata": {},
     "output_type": "execute_result"
    }
   ],
   "source": [
    "M_double_dash"
   ]
  },
  {
   "cell_type": "code",
   "execution_count": 18,
   "metadata": {},
   "outputs": [
    {
     "name": "stdout",
     "output_type": "stream",
     "text": [
      "Epoch 1/10, Loss: 1.264894723892212\n",
      "Epoch 2/10, Loss: 0.38062405586242676\n",
      "Epoch 3/10, Loss: 0.44410866498947144\n",
      "Epoch 4/10, Loss: 0.3563108742237091\n",
      "Epoch 5/10, Loss: 0.5074821710586548\n",
      "Epoch 6/10, Loss: 0.4351373016834259\n",
      "Epoch 7/10, Loss: 0.12348975986242294\n",
      "Epoch 8/10, Loss: 0.28328076004981995\n",
      "Epoch 9/10, Loss: 0.20723871886730194\n",
      "Epoch 10/10, Loss: 0.10706549882888794\n"
     ]
    }
   ],
   "source": [
    "# Train the model M'' on the MNIST dataset\n",
    "criterion = nn.CrossEntropyLoss()\n",
    "optimizer = optim.SGD(M_double_dash.parameters(), lr=0.01)\n",
    "num_epochs = 10\n",
    "for epoch in range(num_epochs):\n",
    "    for batch_idx, (data, target) in enumerate(train_loader):\n",
    "        optimizer.zero_grad()\n",
    "        output = M_double_dash(data)\n",
    "        loss = criterion(output, target)\n",
    "        loss.backward()\n",
    "        optimizer.step()\n",
    "\n",
    "    # Print the training loss for each epoch\n",
    "    print(f'Epoch {epoch+1}/{num_epochs}, Loss: {loss.item()}')"
   ]
  },
  {
   "cell_type": "code",
   "execution_count": 19,
   "metadata": {},
   "outputs": [
    {
     "name": "stdout",
     "output_type": "stream",
     "text": [
      "Test Accuracy model: 93.34%\n"
     ]
    }
   ],
   "source": [
    "M_double_dash.eval()\n",
    "correct = 0\n",
    "total = 0\n",
    "with torch.no_grad():\n",
    "    for data, target in test_loader:\n",
    "        output = M_double_dash(data)\n",
    "        _, predicted = torch.max(output.data, 1)\n",
    "        total += target.size(0)\n",
    "        correct += (predicted == target).sum().item()\n",
    "\n",
    "accuracy = 100 * correct / total\n",
    "\n",
    "print(f'Test Accuracy model: {accuracy}%')"
   ]
  },
  {
   "cell_type": "code",
   "execution_count": 20,
   "metadata": {},
   "outputs": [
    {
     "name": "stdout",
     "output_type": "stream",
     "text": [
      "Epoch 1/10, Loss: 0.4775153696537018\n",
      "Epoch 2/10, Loss: 0.27576935291290283\n",
      "Epoch 3/10, Loss: 0.23371675610542297\n",
      "Epoch 4/10, Loss: 0.0607939213514328\n",
      "Epoch 5/10, Loss: 0.05723539739847183\n",
      "Epoch 6/10, Loss: 0.0828898623585701\n",
      "Epoch 7/10, Loss: 0.052104827016592026\n",
      "Epoch 8/10, Loss: 0.04777601361274719\n",
      "Epoch 9/10, Loss: 0.019970186054706573\n",
      "Epoch 10/10, Loss: 0.24144688248634338\n"
     ]
    }
   ],
   "source": [
    "M_star = Net_sub()\n",
    "# Train the model M* on the MNIST dataset\n",
    "criterion = nn.CrossEntropyLoss()\n",
    "optimizer = optim.SGD(M_star.parameters(), lr=0.01)\n",
    "num_epochs = 10\n",
    "for epoch in range(num_epochs):\n",
    "    for batch_idx, (data, target) in enumerate(train_loader):\n",
    "        optimizer.zero_grad()\n",
    "        output = M_star(data)\n",
    "        loss = criterion(output, target)\n",
    "        loss.backward()\n",
    "        optimizer.step()\n",
    "\n",
    "    # Print the training loss for each epoch\n",
    "    print(f'Epoch {epoch+1}/{num_epochs}, Loss: {loss.item()}')\n"
   ]
  },
  {
   "cell_type": "code",
   "execution_count": 21,
   "metadata": {},
   "outputs": [
    {
     "name": "stdout",
     "output_type": "stream",
     "text": [
      "Test Accuracy: 96.02%\n"
     ]
    }
   ],
   "source": [
    "# Evaluate the model M* on the test set\n",
    "M_star.eval()\n",
    "correct = 0\n",
    "total = 0\n",
    "with torch.no_grad():\n",
    "    for data, target in test_loader:\n",
    "        output = M_star(data)\n",
    "        _, predicted = torch.max(output.data, 1)\n",
    "        total += target.size(0)\n",
    "        correct += (predicted == target).sum().item()\n",
    "\n",
    "accuracy = 100 * correct / total\n",
    "print(f'Test Accuracy: {accuracy}%')\n"
   ]
  }
 ],
 "metadata": {
  "kernelspec": {
   "display_name": "Python 3",
   "language": "python",
   "name": "python3"
  },
  "language_info": {
   "codemirror_mode": {
    "name": "ipython",
    "version": 3
   },
   "file_extension": ".py",
   "mimetype": "text/x-python",
   "name": "python",
   "nbconvert_exporter": "python",
   "pygments_lexer": "ipython3",
   "version": "3.9.6"
  }
 },
 "nbformat": 4,
 "nbformat_minor": 2
}
